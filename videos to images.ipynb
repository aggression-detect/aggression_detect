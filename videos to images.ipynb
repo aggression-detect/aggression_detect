{
 "cells": [
  {
   "cell_type": "code",
   "execution_count": 1,
   "metadata": {},
   "outputs": [],
   "source": [
    "import cv2\n",
    "import os\n",
    "import glob"
   ]
  },
  {
   "cell_type": "code",
   "execution_count": 3,
   "metadata": {
    "scrolled": true
   },
   "outputs": [
    {
     "name": "stdout",
     "output_type": "stream",
     "text": [
      "Number of fight videos=  0\n",
      "Number of no fight videos=  0\n"
     ]
    }
   ],
   "source": [
    "# create two list for storing the name of fight and no fight videos\n",
    "fiList=[]\n",
    "noList=[]\n",
    "\n",
    "# video_kind = ['HockeyFights','Surveillance Camera Fight Dataset','youtube_fight']\n",
    "video_kind = 'HockeyFights'\n",
    "videos_path = './data/'+video_kind\n",
    "for video in os.listdir(videos_path+'/fight'):\n",
    "    if '.mp4' not in video:\n",
    "        continue\n",
    "    fiList.append(video)\n",
    "for video in os.listdir(videos_path+'/noFight'):\n",
    "    if '.mp4' not in video:\n",
    "        continue\n",
    "    noList.append(video)\n",
    "    \n",
    "print('Number of fight videos= ',len(fiList))\n",
    "print('Number of no fight videos= ',len(noList))"
   ]
  },
  {
   "cell_type": "code",
   "execution_count": 4,
   "metadata": {},
   "outputs": [],
   "source": [
    "#The rate of extracting the video frame, here we set it for 1 frame\n",
    "frameFrequency=1\n",
    "\n",
    "# loop for fighting videos\n",
    "for sourceFileName in fiList:\n",
    "    times=0\n",
    "    \n",
    "    # Set the output directory\n",
    "    outPutDirName='video_image/'+video_kind+'/fight/'+sourceFileName+'/'\n",
    "    if not os.path.exists(outPutDirName):\n",
    "        # If it doesn't exit, create it\n",
    "        os.makedirs(outPutDirName)\n",
    "\n",
    "    # get the path for each single video\n",
    "    video_path = os.path.join(videos_path+'/fight', sourceFileName)\n",
    "    print (video_path)\n",
    "\n",
    "    camera = cv2.VideoCapture(video_path)\n",
    "    while True:\n",
    "        times+=1\n",
    "        res, image = camera.read()\n",
    "        \n",
    "        # if the video ends, break the loop\n",
    "        if not res:\n",
    "            print('not res , not image')\n",
    "            break\n",
    "        if times%frameFrequency==0:\n",
    "            cv2.imwrite(outPutDirName + str(times)+'.jpg', image)\n",
    "            print(outPutDirName + str(times)+'.jpg')\n",
    "            \n",
    "    print('process finished')\n",
    "    camera.release()\n",
    "\n",
    "# loop for none-fighting videos\n",
    "for sourceFileName in noList:\n",
    "    times=0\n",
    "    \n",
    "    # Set the output directory\n",
    "    outPutDirName='video_image/'+video_kind+'/noFight/'+sourceFileName+'/'\n",
    "    if not os.path.exists(outPutDirName):\n",
    "        # If it doesn't exit, create it\n",
    "        os.makedirs(outPutDirName)\n",
    "\n",
    "    # get the path for each single video\n",
    "    video_path = os.path.join(videos_path+'/noFight', sourceFileName)\n",
    "    print (video_path)\n",
    "\n",
    "    camera = cv2.VideoCapture(video_path)\n",
    "    while True:\n",
    "        times+=1\n",
    "        res, image = camera.read()\n",
    "        # if the video ends, break the loop\n",
    "        if not res:\n",
    "            print('not res , not image')\n",
    "            break\n",
    "        if times%frameFrequency==0:\n",
    "            cv2.imwrite(outPutDirName + str(times)+'.jpg', image)\n",
    "            print(outPutDirName + str(times)+'.jpg')\n",
    "    print('process finished')\n",
    "    camera.release()\n"
   ]
  },
  {
   "cell_type": "code",
   "execution_count": null,
   "metadata": {},
   "outputs": [],
   "source": []
  }
 ],
 "metadata": {
  "kernelspec": {
   "display_name": "Python 3",
   "language": "python",
   "name": "python3"
  },
  "language_info": {
   "codemirror_mode": {
    "name": "ipython",
    "version": 3
   },
   "file_extension": ".py",
   "mimetype": "text/x-python",
   "name": "python",
   "nbconvert_exporter": "python",
   "pygments_lexer": "ipython3",
   "version": "3.7.3"
  }
 },
 "nbformat": 4,
 "nbformat_minor": 4
}
