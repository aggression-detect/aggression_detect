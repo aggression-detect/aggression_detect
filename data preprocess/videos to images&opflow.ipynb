{
 "cells": [
  {
   "cell_type": "code",
   "execution_count": 9,
   "metadata": {},
   "outputs": [],
   "source": [
    "import cv2\n",
    "import re\n",
    "import os\n",
    "import glob\n",
    "import numpy as np\n",
    "import imageio\n",
    "from PIL import Image\n",
    "from tqdm.notebook import tqdm"
   ]
  },
  {
   "cell_type": "code",
   "execution_count": 12,
   "metadata": {
    "scrolled": true
   },
   "outputs": [
    {
     "name": "stdout",
     "output_type": "stream",
     "text": [
      "Number of fight videos=  58\n",
      "Number of no fight videos=  41\n",
      "Total=  99\n",
      "fi001.mp4 nofi001.mp4\n"
     ]
    }
   ],
   "source": [
    "# create two list for storing the name of fight and no fight videos\n",
    "fiList=[]\n",
    "noList=[]\n",
    "totalList=[]\n",
    "video_list = ['HockeyFights','Surveillance Camera Fight Dataset','youtube_fight','Movie Dataset']\n",
    "video_kind = video_list[2]\n",
    "videos_path = './data/'+video_kind\n",
    "for video in os.listdir(videos_path+'/fight'):\n",
    "    if '.mp4' not in video:\n",
    "        continue\n",
    "    fiList.append(video)\n",
    "for video in os.listdir(videos_path+'/noFight'):\n",
    "    if '.mp4' not in video:\n",
    "        continue\n",
    "    noList.append(video)\n",
    "totalList = fiList+noList\n",
    "print('Number of fight videos= ',len(fiList))\n",
    "print('Number of no fight videos= ',len(noList))\n",
    "print('Total= ', len(totalList))\n",
    "print (fiList[0],noList[0])"
   ]
  },
  {
   "cell_type": "markdown",
   "metadata": {},
   "source": [
    "# change video form into image form"
   ]
  },
  {
   "cell_type": "code",
   "execution_count": 13,
   "metadata": {},
   "outputs": [
    {
     "data": {
      "application/vnd.jupyter.widget-view+json": {
       "model_id": "1a43ff4d04f44cac8e46a0ee29a86170",
       "version_major": 2,
       "version_minor": 0
      },
      "text/plain": [
       "HBox(children=(FloatProgress(value=0.0, max=58.0), HTML(value='')))"
      ]
     },
     "metadata": {},
     "output_type": "display_data"
    },
    {
     "name": "stdout",
     "output_type": "stream",
     "text": [
      "\n"
     ]
    },
    {
     "data": {
      "application/vnd.jupyter.widget-view+json": {
       "model_id": "47f7077d77f74a68b375fb9facfbf40e",
       "version_major": 2,
       "version_minor": 0
      },
      "text/plain": [
       "HBox(children=(FloatProgress(value=0.0, max=41.0), HTML(value='')))"
      ]
     },
     "metadata": {},
     "output_type": "display_data"
    },
    {
     "name": "stdout",
     "output_type": "stream",
     "text": [
      "\n",
      "process finished\n"
     ]
    }
   ],
   "source": [
    "#The rate of extracting the video frame, here we set it for 1 frame\n",
    "frameFrequency=1\n",
    "\n",
    "# loop for fighting videos\n",
    "for sourceFileName in tqdm(fiList):\n",
    "    times=0\n",
    "    \n",
    "    # Set the output directory\n",
    "    outPutDirName='video_image/'+video_kind+'/fight/'+sourceFileName+'/'\n",
    "    if not os.path.exists(outPutDirName):\n",
    "        # If it doesn't exit, create it\n",
    "        os.makedirs(outPutDirName)\n",
    "\n",
    "    # get the path for each single video\n",
    "    video_path = os.path.join(videos_path+'/fight', sourceFileName)\n",
    "\n",
    "    camera = cv2.VideoCapture(video_path)\n",
    "    while True:\n",
    "        times+=1\n",
    "        res, image = camera.read()\n",
    "        \n",
    "        # if the video ends, break the loop\n",
    "        if not res:\n",
    "            break\n",
    "        if times%frameFrequency==0:\n",
    "            cv2.imwrite(outPutDirName + str(times)+'.jpg', image)\n",
    "    camera.release()\n",
    "\n",
    "# loop for none-fighting videos\n",
    "for sourceFileName in tqdm(noList):\n",
    "    times=0\n",
    "    \n",
    "    # Set the output directory\n",
    "    outPutDirName='video_image/'+video_kind+'/noFight/'+sourceFileName+'/'\n",
    "    if not os.path.exists(outPutDirName):\n",
    "        # If it doesn't exit, create it\n",
    "        os.makedirs(outPutDirName)\n",
    "\n",
    "    # get the path for each single video\n",
    "    video_path = os.path.join(videos_path+'/noFight', sourceFileName)\n",
    "\n",
    "    camera = cv2.VideoCapture(video_path)\n",
    "    while True:\n",
    "        times+=1\n",
    "        res, image = camera.read()\n",
    "        # if the video ends, break the loop\n",
    "        if not res:\n",
    "            break\n",
    "        if times%frameFrequency==0:\n",
    "            cv2.imwrite(outPutDirName + str(times)+'.jpg', image)\n",
    "print('process finished')"
   ]
  },
  {
   "cell_type": "markdown",
   "metadata": {},
   "source": [
    "# Transfer to opticalflow"
   ]
  },
  {
   "cell_type": "code",
   "execution_count": 14,
   "metadata": {
    "scrolled": false
   },
   "outputs": [
    {
     "data": {
      "application/vnd.jupyter.widget-view+json": {
       "model_id": "79835436bf47484abc91eadb9b60176b",
       "version_major": 2,
       "version_minor": 0
      },
      "text/plain": [
       "HBox(children=(FloatProgress(value=0.0, max=58.0), HTML(value='')))"
      ]
     },
     "metadata": {},
     "output_type": "display_data"
    },
    {
     "ename": "KeyboardInterrupt",
     "evalue": "",
     "output_type": "error",
     "traceback": [
      "\u001b[1;31m---------------------------------------------------------------------------\u001b[0m",
      "\u001b[1;31mKeyboardInterrupt\u001b[0m                         Traceback (most recent call last)",
      "\u001b[1;32m<ipython-input-14-6df8ef55c4f3>\u001b[0m in \u001b[0;36m<module>\u001b[1;34m\u001b[0m\n\u001b[0;32m     30\u001b[0m \u001b[1;33m\u001b[0m\u001b[0m\n\u001b[0;32m     31\u001b[0m         \u001b[0moptical_flow\u001b[0m \u001b[1;33m=\u001b[0m \u001b[0mcv2\u001b[0m\u001b[1;33m.\u001b[0m\u001b[0mDualTVL1OpticalFlow_create\u001b[0m\u001b[1;33m(\u001b[0m\u001b[1;33m)\u001b[0m\u001b[1;33m\u001b[0m\u001b[1;33m\u001b[0m\u001b[0m\n\u001b[1;32m---> 32\u001b[1;33m         \u001b[0mflow\u001b[0m \u001b[1;33m=\u001b[0m \u001b[0moptical_flow\u001b[0m\u001b[1;33m.\u001b[0m\u001b[0mcalc\u001b[0m\u001b[1;33m(\u001b[0m\u001b[0mimage1\u001b[0m\u001b[1;33m,\u001b[0m \u001b[0mimage2\u001b[0m\u001b[1;33m,\u001b[0m \u001b[1;32mNone\u001b[0m\u001b[1;33m)\u001b[0m\u001b[1;33m\u001b[0m\u001b[1;33m\u001b[0m\u001b[0m\n\u001b[0m\u001b[0;32m     33\u001b[0m         \u001b[0mopflowx\u001b[0m\u001b[1;33m=\u001b[0m\u001b[0mcv2\u001b[0m\u001b[1;33m.\u001b[0m\u001b[0mnormalize\u001b[0m\u001b[1;33m(\u001b[0m\u001b[0mflow\u001b[0m\u001b[1;33m[\u001b[0m\u001b[1;33m:\u001b[0m\u001b[1;33m,\u001b[0m\u001b[1;33m:\u001b[0m\u001b[1;33m,\u001b[0m\u001b[1;36m0\u001b[0m\u001b[1;33m]\u001b[0m\u001b[1;33m,\u001b[0m \u001b[1;32mNone\u001b[0m\u001b[1;33m,\u001b[0m \u001b[1;36m0\u001b[0m\u001b[1;33m,\u001b[0m \u001b[1;36m255\u001b[0m\u001b[1;33m,\u001b[0m \u001b[0mcv2\u001b[0m\u001b[1;33m.\u001b[0m\u001b[0mNORM_MINMAX\u001b[0m\u001b[1;33m)\u001b[0m\u001b[1;33m\u001b[0m\u001b[1;33m\u001b[0m\u001b[0m\n\u001b[0;32m     34\u001b[0m         \u001b[0mopflowy\u001b[0m\u001b[1;33m=\u001b[0m\u001b[0mcv2\u001b[0m\u001b[1;33m.\u001b[0m\u001b[0mnormalize\u001b[0m\u001b[1;33m(\u001b[0m\u001b[0mflow\u001b[0m\u001b[1;33m[\u001b[0m\u001b[1;33m:\u001b[0m\u001b[1;33m,\u001b[0m\u001b[1;33m:\u001b[0m\u001b[1;33m,\u001b[0m\u001b[1;36m1\u001b[0m\u001b[1;33m]\u001b[0m\u001b[1;33m,\u001b[0m \u001b[1;32mNone\u001b[0m\u001b[1;33m,\u001b[0m \u001b[1;36m0\u001b[0m\u001b[1;33m,\u001b[0m \u001b[1;36m255\u001b[0m\u001b[1;33m,\u001b[0m \u001b[0mcv2\u001b[0m\u001b[1;33m.\u001b[0m\u001b[0mNORM_MINMAX\u001b[0m\u001b[1;33m)\u001b[0m\u001b[1;33m\u001b[0m\u001b[1;33m\u001b[0m\u001b[0m\n",
      "\u001b[1;31mKeyboardInterrupt\u001b[0m: "
     ]
    }
   ],
   "source": [
    "def sort_key(s):\n",
    "    if s:\n",
    "        try:\n",
    "            c = re.findall('^\\d+', s)[0]\n",
    "        except:\n",
    "            c = -1\n",
    "        return int(c)\n",
    "\n",
    "\n",
    "for sourceFileName in tqdm(fiList):\n",
    "    # Set the output directory\n",
    "    outPutDirName='./video_image/'+video_kind+' opflow'+'/fight/'+sourceFileName+'/'\n",
    "    if not os.path.exists(outPutDirName):\n",
    "        # If it doesn't exit, create it\n",
    "        os.makedirs(outPutDirName)\n",
    "\n",
    "    # get the path for each single images set\n",
    "    image_paths = './video_image/'+video_kind+'/fight/'+sourceFileName+'/'\n",
    "\n",
    "    # contains the names of all the images\n",
    "    imageList = os.listdir(image_paths)\n",
    "    imageList.sort(key = sort_key)\n",
    "\n",
    "    # image1 initially stores the first image\n",
    "    image1 = imageio.imread(image_paths + imageList[0])\n",
    "    image1 = cv2.cvtColor(image1,cv2.COLOR_BGR2GRAY)\n",
    "    for image_idx in range(1,len(imageList)):\n",
    "        image2 = imageio.imread(image_paths + imageList[image_idx])\n",
    "        image2 = cv2.cvtColor(image2, cv2.COLOR_BGR2GRAY)\n",
    "\n",
    "        optical_flow = cv2.DualTVL1OpticalFlow_create()\n",
    "        flow = optical_flow.calc(image1, image2, None)\n",
    "        opflowx=cv2.normalize(flow[:,:,0], None, 0, 255, cv2.NORM_MINMAX)\n",
    "        opflowy=cv2.normalize(flow[:,:,1], None, 0, 255, cv2.NORM_MINMAX)\n",
    "        opflowx = np.array([opflowx]*3).transpose(1,2,0)\n",
    "        opflowy = np.array([opflowy]*3).transpose(1,2,0)\n",
    "        cv2.imwrite(outPutDirName + 'x_'+str(image_idx)+'.jpg', opflowx)\n",
    "        cv2.imwrite(outPutDirName + 'y_'+str(image_idx)+'.jpg', opflowy)\n",
    "        image1 = image2\n",
    "print('fight process finished')\n",
    "\n",
    "for sourceFileName in tqdm(noList):\n",
    "    # Set the output directory\n",
    "    outPutDirName='./video_image/'+video_kind+' opflow'+'/noFight/'+sourceFileName+'/'\n",
    "    if not os.path.exists(outPutDirName):\n",
    "        # If it doesn't exit, create it\n",
    "        os.makedirs(outPutDirName)\n",
    "\n",
    "    # get the path for each single images set\n",
    "    image_paths = './video_image/'+video_kind+'/noFight/'+sourceFileName+'/'\n",
    "\n",
    "    # contains the names of all the images\n",
    "    imageList = os.listdir(image_paths)\n",
    "    imageList.sort(key = sort_key)\n",
    "    \n",
    "    # image1 initially stores the first image\n",
    "    image1 = imageio.imread(image_paths + imageList[0])\n",
    "    image1 = cv2.cvtColor(image1,cv2.COLOR_BGR2GRAY)\n",
    "    for image_idx in range(1,len(imageList)):\n",
    "        image2 = imageio.imread(image_paths + imageList[image_idx])\n",
    "        image2 = cv2.cvtColor(image2, cv2.COLOR_BGR2GRAY)\n",
    "        \n",
    "        optical_flow = cv2.DualTVL1OpticalFlow_create()\n",
    "        flow = optical_flow.calc(image1, image2, None)\n",
    "        opflowx=cv2.normalize(flow[:,:,0], None, 0, 255, cv2.NORM_MINMAX)\n",
    "        opflowy=cv2.normalize(flow[:,:,1], None, 0, 255, cv2.NORM_MINMAX)\n",
    "        opflowx = np.array([opflowx]*3).transpose(1,2,0)\n",
    "        opflowy = np.array([opflowy]*3).transpose(1,2,0)\n",
    "        cv2.imwrite(outPutDirName + 'x_'+str(image_idx)+'.jpg', opflowx)\n",
    "        cv2.imwrite(outPutDirName + 'y_'+str(image_idx)+'.jpg', opflowy)\n",
    "        image1 = image2\n",
    "        \n",
    "print('noFight process finished')"
   ]
  },
  {
   "cell_type": "code",
   "execution_count": null,
   "metadata": {
    "scrolled": true
   },
   "outputs": [],
   "source": []
  },
  {
   "cell_type": "code",
   "execution_count": 3,
   "metadata": {},
   "outputs": [],
   "source": []
  },
  {
   "cell_type": "code",
   "execution_count": null,
   "metadata": {},
   "outputs": [],
   "source": []
  }
 ],
 "metadata": {
  "kernelspec": {
   "display_name": "Python 3",
   "language": "python",
   "name": "python3"
  },
  "language_info": {
   "codemirror_mode": {
    "name": "ipython",
    "version": 3
   },
   "file_extension": ".py",
   "mimetype": "text/x-python",
   "name": "python",
   "nbconvert_exporter": "python",
   "pygments_lexer": "ipython3",
   "version": "3.7.3"
  }
 },
 "nbformat": 4,
 "nbformat_minor": 4
}
