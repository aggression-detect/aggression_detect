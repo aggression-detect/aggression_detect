{
 "cells": [
  {
   "cell_type": "code",
   "execution_count": 1,
   "metadata": {
    "colab": {},
    "colab_type": "code",
    "id": "bC_iiWpIdTv-"
   },
   "outputs": [],
   "source": [
    "import glob\n",
    "import cv2\n",
    "import numpy as np\n",
    "import os\n",
    "import re\n",
    "import gc\n",
    "from tqdm.notebook import tqdm"
   ]
  },
  {
   "cell_type": "markdown",
   "metadata": {},
   "source": [
    "## Code for Google labs ## "
   ]
  },
  {
   "cell_type": "code",
   "execution_count": null,
   "metadata": {
    "colab": {
     "base_uri": "https://localhost:8080/",
     "height": 35
    },
    "colab_type": "code",
    "id": "rHbGLVlRdbBF",
    "outputId": "318092a5-f332-4e70-cda1-f3a84c3b9636"
   },
   "outputs": [
    {
     "name": "stdout",
     "output_type": "stream",
     "text": [
      "Drive already mounted at /content/drive; to attempt to forcibly remount, call drive.mount(\"/content/drive\", force_remount=True).\n"
     ]
    }
   ],
   "source": [
    "from google.colab import drive\n",
    "drive.mount('/content/drive')"
   ]
  },
  {
   "cell_type": "code",
   "execution_count": null,
   "metadata": {
    "colab": {
     "base_uri": "https://localhost:8080/",
     "height": 215
    },
    "colab_type": "code",
    "id": "83hANx5ddb4t",
    "outputId": "fc7192ac-c599-4553-b1b6-0f018a46d64a"
   },
   "outputs": [
    {
     "data": {
      "text/plain": [
       "['Colab Notebooks',\n",
       " 'result.txt',\n",
       " 'results.pickle',\n",
       " 'fall_detection',\n",
       " 'labels_urfd_tf.h5',\n",
       " 'Fall 2019 ECE 391 Final Exam Review.gdoc',\n",
       " 'data',\n",
       " 'video_image',\n",
       " 'VGG',\n",
       " 'videos to images.ipynb',\n",
       " 'csv']"
      ]
     },
     "execution_count": 3,
     "metadata": {
      "tags": []
     },
     "output_type": "execute_result"
    }
   ],
   "source": [
    "os.chdir(\"/content/drive/My Drive\") \n",
    "path = \"/content/drive/My Drive\"\n",
    "os.chdir(path)\n",
    "os.listdir(path)"
   ]
  },
  {
   "cell_type": "code",
   "execution_count": null,
   "metadata": {
    "colab": {
     "base_uri": "https://localhost:8080/",
     "height": 53
    },
    "colab_type": "code",
    "id": "JevdRTE5e6lz",
    "outputId": "a34ad356-8eb1-4a22-c149-4b39aede49fd"
   },
   "outputs": [
    {
     "name": "stdout",
     "output_type": "stream",
     "text": [
      "/content/drive/My Drive/video_image/Movie Dataset opflow\n"
     ]
    },
    {
     "data": {
      "text/plain": [
       "['fight', 'noFight']"
      ]
     },
     "execution_count": 4,
     "metadata": {
      "tags": []
     },
     "output_type": "execute_result"
    }
   ],
   "source": [
    "# cur_path = os.path.dirname(os.path.abspath(\"__file__\"))\n",
    "# par_path = os.path.abspath(os.path.join(cur_path,os.path.pardir))\n",
    "# print (cur_path)\n",
    "# print (par_path)\n",
    "# data_kind = \"Movie Dataset\"\n",
    "# data_path = par_path+\"/\"+ data_kind + \" opflow\"\n",
    "# os.listdir(data_path)\n",
    "\n",
    "data_kind = \"Movie Dataset\"\n",
    "data_path = path+\"/video_image\"+ \"/\"+ data_kind + \" opflow\"\n",
    "print (data_path)\n",
    "os.listdir(data_path)\n"
   ]
  },
  {
   "cell_type": "code",
   "execution_count": null,
   "metadata": {
    "colab": {
     "base_uri": "https://localhost:8080/",
     "height": 53
    },
    "colab_type": "code",
    "id": "pPSGtg-6fB6V",
    "outputId": "998cd00a-9f20-46ad-cf8c-452308749f26"
   },
   "outputs": [
    {
     "name": "stdout",
     "output_type": "stream",
     "text": [
      "fight data =  100\n",
      "noFight data =  93\n"
     ]
    }
   ],
   "source": [
    "print (\"fight data = \",len(glob.glob(r\"%s\"%(data_path+\"/fight/*.mp4\"))))\n",
    "print (\"noFight data = \",len(glob.glob(r\"%s\"%(data_path+\"/noFight/*.mp4\"))))"
   ]
  },
  {
   "cell_type": "code",
   "execution_count": null,
   "metadata": {
    "colab": {},
    "colab_type": "code",
    "id": "E1NMEgV9fCC8"
   },
   "outputs": [],
   "source": []
  },
  {
   "cell_type": "code",
   "execution_count": null,
   "metadata": {
    "colab": {
     "base_uri": "https://localhost:8080/",
     "height": 35
    },
    "colab_type": "code",
    "id": "DZqD3Kr0dTwH",
    "outputId": "69579e37-5d51-408f-c478-f6bd8c2fa831"
   },
   "outputs": [
    {
     "name": "stdout",
     "output_type": "stream",
     "text": [
      "/content/drive/My Drive/video_image/Movie Dataset opflow\n"
     ]
    }
   ],
   "source": [
    "cur_path=os.getcwd()\n",
    "file_kind = 'Movie Dataset opflow'\n",
    "data_path = cur_path+'/video_image/'+file_kind\n",
    "print (data_path)"
   ]
  },
  {
   "cell_type": "code",
   "execution_count": null,
   "metadata": {
    "colab": {},
    "colab_type": "code",
    "id": "_Jj8t7BYdTwL"
   },
   "outputs": [],
   "source": [
    "fight_files = glob.glob(data_path+'/fight'+'/*mp4')\n",
    "noFight_files = glob.glob(data_path+'/noFight'+'/*mp4')\n",
    "total_files = fight_files+noFight_files"
   ]
  },
  {
   "cell_type": "code",
   "execution_count": null,
   "metadata": {
    "colab": {},
    "colab_type": "code",
    "id": "4EUJXOA4dTwN"
   },
   "outputs": [],
   "source": [
    "# size for potical flow batch\n",
    "L = 10"
   ]
  },
  {
   "cell_type": "code",
   "execution_count": null,
   "metadata": {
    "colab": {},
    "colab_type": "code",
    "id": "PNUiFqrBdTwU"
   },
   "outputs": [],
   "source": [
    "# key for the string sort, it will get the digit \n",
    "# from the string and then sort it \n",
    "def sort_key(s):\n",
    "    if s:\n",
    "        try:\n",
    "            c = re.findall(r\"\\d+\", s)[0]\n",
    "\n",
    "        except:\n",
    "            c = -1\n",
    "        return int(c)"
   ]
  },
  {
   "cell_type": "code",
   "execution_count": null,
   "metadata": {
    "colab": {},
    "colab_type": "code",
    "id": "kJXhlPzzdTwY"
   },
   "outputs": [],
   "source": [
    "# generator function for the images\n",
    "def generator(list1, lits2):\n",
    "    '''\n",
    "    Auxiliar generator: returns the ith element of both given list with\n",
    "         each call to next() \n",
    "    '''\n",
    "    for x,y in zip(list1,lits2):\n",
    "        yield x, y"
   ]
  },
  {
   "cell_type": "code",
   "execution_count": null,
   "metadata": {
    "colab": {},
    "colab_type": "code",
    "id": "h7Gjf5wcdTwb"
   },
   "outputs": [],
   "source": [
    "# convert the optical flow into the csv file\n",
    "def convert_data_to_csv(file,file_kind):\n",
    "    for video_path in tqdm(file):\n",
    "        x_images = glob.glob(video_path + '/x_*.jpg')\n",
    "        x_images.sort(key=sort_key)\n",
    "        y_images = glob.glob(video_path + '/y_*.jpg')\n",
    "        y_images.sort(key=sort_key)\n",
    "        nb_stacks = len(x_images)-L+1\n",
    "        flow = np.zeros(shape=(224,224,2*L,nb_stacks), dtype=np.float64)\n",
    "        gen = generator(x_images,y_images)\n",
    "        # print(video_path)\n",
    "        # print(np.shape(x_images),np.shape(y_images))\n",
    "        for i in range(len(x_images)):\n",
    "            flow_x_file, flow_y_file = next(gen)\n",
    "            img_x = cv2.imread(flow_x_file, cv2.IMREAD_GRAYSCALE)\n",
    "            img_y = cv2.imread(flow_y_file, cv2.IMREAD_GRAYSCALE)\n",
    "            # Assign an image i to the jth stack in the kth position, but also\n",
    "            # in the j+1th stack in the k+1th position and so on\n",
    "            # (for sliding window) \n",
    "            for s in list(reversed(range(min(L,i+1)))):\n",
    "                if i-s < nb_stacks:\n",
    "                    flow[:,:,2*s,i-s] = img_x\n",
    "                    flow[:,:,2*s+1,i-s] = img_y\n",
    "            del img_x,img_y\n",
    "            gc.collect()                \n",
    "        \n",
    "        # Should notice that each flow represents all the optical flow data from \n",
    "        # one document (video)\n",
    "        flow = np.transpose(flow, (3, 0, 1, 2))\n",
    "\n",
    "        # To transfer it to csv form, we need to reshape it into 2D array\n",
    "        flow = np.reshape(flow,(-1,224))\n",
    "        \n",
    "        # get the name of the video \n",
    "        file_name = re.search(r'ght/(.*?)(\\.mp4)',video_path).group(1)\n",
    "        \n",
    "        if \"noFight\" in video_path:\n",
    "            outPutDirName=path+'/csv/'+file_kind+'/noFight/'\n",
    "            if not os.path.exists(outPutDirName):\n",
    "                # If it doesn't exit, create it\n",
    "                os.makedirs(outPutDirName)\n",
    "            out_path = '%s.csv'%os.path.join(outPutDirName,file_name)\n",
    "        else :\n",
    "            outPutDirName=path+'/csv/'+file_kind+'/fight/'\n",
    "            if not os.path.exists(outPutDirName):\n",
    "                # If it doesn't exit, create it\n",
    "                os.makedirs(outPutDirName)\n",
    "            out_path = '%s.csv'%os.path.join(outPutDirName,file_name)\n",
    "        \n",
    "        # load the 2d arrary into csv\n",
    "        # fmt=\"%d\" means data are stored as interger\n",
    "        np.savetxt(out_path, flow, fmt=\"%d\",delimiter = ',')\n"
   ]
  },
  {
   "cell_type": "code",
   "execution_count": null,
   "metadata": {
    "colab": {
     "base_uri": "https://localhost:8080/",
     "height": 465
    },
    "colab_type": "code",
    "id": "yI1dXAUPdTwf",
    "outputId": "4283da80-ac93-45c5-ceea-54823829529a"
   },
   "outputs": [
    {
     "name": "stdout",
     "output_type": "stream",
     "text": [
      "1/193\n",
      "2/193\n",
      "3/193\n",
      "4/193\n",
      "5/193\n",
      "6/193\n"
     ]
    },
    {
     "ename": "KeyboardInterrupt",
     "evalue": "ignored",
     "output_type": "error",
     "traceback": [
      "\u001b[0;31m---------------------------------------------------------------------------\u001b[0m",
      "\u001b[0;31mKeyboardInterrupt\u001b[0m                         Traceback (most recent call last)",
      "\u001b[0;32m<ipython-input-29-903f112451f0>\u001b[0m in \u001b[0;36m<module>\u001b[0;34m()\u001b[0m\n\u001b[0;32m----> 1\u001b[0;31m \u001b[0mconvert_data_to_csv\u001b[0m\u001b[0;34m(\u001b[0m\u001b[0mtotal_files\u001b[0m\u001b[0;34m,\u001b[0m\u001b[0mfile_kind\u001b[0m\u001b[0;34m)\u001b[0m\u001b[0;34m\u001b[0m\u001b[0;34m\u001b[0m\u001b[0m\n\u001b[0m",
      "\u001b[0;32m<ipython-input-28-5e3c5fbc179e>\u001b[0m in \u001b[0;36mconvert_data_to_csv\u001b[0;34m(file, file_kind)\u001b[0m\n\u001b[1;32m     43\u001b[0m             \u001b[0mout_path\u001b[0m \u001b[0;34m=\u001b[0m \u001b[0;34m'%s.csv'\u001b[0m\u001b[0;34m%\u001b[0m\u001b[0mos\u001b[0m\u001b[0;34m.\u001b[0m\u001b[0mpath\u001b[0m\u001b[0;34m.\u001b[0m\u001b[0mjoin\u001b[0m\u001b[0;34m(\u001b[0m\u001b[0moutPutDirName\u001b[0m\u001b[0;34m,\u001b[0m\u001b[0mfile_name\u001b[0m\u001b[0;34m)\u001b[0m\u001b[0;34m\u001b[0m\u001b[0;34m\u001b[0m\u001b[0m\n\u001b[1;32m     44\u001b[0m         \u001b[0mprint\u001b[0m\u001b[0;34m(\u001b[0m\u001b[0;34m'%i/%i'\u001b[0m\u001b[0;34m%\u001b[0m\u001b[0;34m(\u001b[0m\u001b[0mcount\u001b[0m\u001b[0;34m,\u001b[0m\u001b[0mlen\u001b[0m\u001b[0;34m(\u001b[0m\u001b[0mfile\u001b[0m\u001b[0;34m)\u001b[0m\u001b[0;34m)\u001b[0m\u001b[0;34m)\u001b[0m\u001b[0;34m\u001b[0m\u001b[0;34m\u001b[0m\u001b[0m\n\u001b[0;32m---> 45\u001b[0;31m         \u001b[0mnp\u001b[0m\u001b[0;34m.\u001b[0m\u001b[0msavetxt\u001b[0m\u001b[0;34m(\u001b[0m\u001b[0mout_path\u001b[0m\u001b[0;34m,\u001b[0m \u001b[0mflow\u001b[0m\u001b[0;34m,\u001b[0m \u001b[0mfmt\u001b[0m\u001b[0;34m=\u001b[0m\u001b[0;34m\"%d\"\u001b[0m\u001b[0;34m,\u001b[0m\u001b[0mdelimiter\u001b[0m \u001b[0;34m=\u001b[0m \u001b[0;34m','\u001b[0m\u001b[0;34m)\u001b[0m\u001b[0;34m\u001b[0m\u001b[0;34m\u001b[0m\u001b[0m\n\u001b[0m",
      "\u001b[0;32m<__array_function__ internals>\u001b[0m in \u001b[0;36msavetxt\u001b[0;34m(*args, **kwargs)\u001b[0m\n",
      "\u001b[0;32m/usr/local/lib/python3.6/dist-packages/numpy/lib/npyio.py\u001b[0m in \u001b[0;36msavetxt\u001b[0;34m(fname, X, fmt, delimiter, newline, header, footer, comments, encoding)\u001b[0m\n\u001b[1;32m   1450\u001b[0m                                     \u001b[0;34m\"format specifier ('%s')\"\u001b[0m\u001b[0;34m\u001b[0m\u001b[0;34m\u001b[0m\u001b[0m\n\u001b[1;32m   1451\u001b[0m                                     % (str(X.dtype), format))\n\u001b[0;32m-> 1452\u001b[0;31m                 \u001b[0mfh\u001b[0m\u001b[0;34m.\u001b[0m\u001b[0mwrite\u001b[0m\u001b[0;34m(\u001b[0m\u001b[0mv\u001b[0m\u001b[0;34m)\u001b[0m\u001b[0;34m\u001b[0m\u001b[0;34m\u001b[0m\u001b[0m\n\u001b[0m\u001b[1;32m   1453\u001b[0m \u001b[0;34m\u001b[0m\u001b[0m\n\u001b[1;32m   1454\u001b[0m         \u001b[0;32mif\u001b[0m \u001b[0mlen\u001b[0m\u001b[0;34m(\u001b[0m\u001b[0mfooter\u001b[0m\u001b[0;34m)\u001b[0m \u001b[0;34m>\u001b[0m \u001b[0;36m0\u001b[0m\u001b[0;34m:\u001b[0m\u001b[0;34m\u001b[0m\u001b[0;34m\u001b[0m\u001b[0m\n",
      "\u001b[0;31mKeyboardInterrupt\u001b[0m: "
     ]
    }
   ],
   "source": [
    "convert_data_to_csv(total_files,file_kind)"
   ]
  }
 ],
 "metadata": {
  "colab": {
   "collapsed_sections": [],
   "name": "opflow_to_csv.ipynb",
   "provenance": []
  },
  "kernelspec": {
   "display_name": "Python 3",
   "language": "python",
   "name": "python3"
  },
  "language_info": {
   "codemirror_mode": {
    "name": "ipython",
    "version": 3
   },
   "file_extension": ".py",
   "mimetype": "text/x-python",
   "name": "python",
   "nbconvert_exporter": "python",
   "pygments_lexer": "ipython3",
   "version": "3.7.3"
  }
 },
 "nbformat": 4,
 "nbformat_minor": 1
}
